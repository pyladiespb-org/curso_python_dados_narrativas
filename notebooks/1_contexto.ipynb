{
 "cells": [
  {
   "cell_type": "markdown",
   "metadata": {},
   "source": [
    "# Notebook 1 - Contexto, fonte e formato dos dados.\n",
    "\n",
    "Python, Dados e Narrativas\n",
    "\n",
    "\n",
    "<img src=\"../imagens/slide6.png\">\n",
    "<img src=\"../imagens/slide7.png\">\n",
    "<img src=\"../imagens/slide8.png\">\n",
    "<img src=\"../imagens/slide9.png\">\n",
    "<img src=\"../imagens/slide10.png\">\n",
    "<img src=\"../imagens/slide11.png\">\n",
    "\n",
    "\n",
    "\n",
    "## Fonte de Dados\n",
    "\n"
   ]
  },
  {
   "cell_type": "markdown",
   "metadata": {},
   "source": [
    "- [API Dados Abertos da Câmara dos Deputados](https://dadosabertos.camara.leg.br/swagger/api.html) \n",
    "- [Portal Brasileiro de Dados Abertos](http://dados.gov.br/)\n",
    "- [Expectativa de Vida - Organização mundial de Saúde](http://apps.who.int/gho/data/view.main.SDG2016LEXREGv?lang=en)\n",
    "- [Comparando as respostas](http://educacao.dadosabertosbr.com/)\n",
    "- [INEP](http://inep.gov.br/dados)\n",
    "- [IPEA - Atlas da Violência](http://www.ipea.gov.br/atlasviolencia/downloads)\n",
    "- [IPEA - Atlas da Violência - PDF](http://www.ipea.gov.br/atlasviolencia/arquivos/downloads/7383-atlas2019infograficofinal-1.pdf)\n",
    "\n",
    "- [Homicídios Faixa Etária de 15 - 29 anos - Mulheres](http://www.ipea.gov.br/atlasviolencia/dados-series/74)\n",
    "- [Homicídios Faixa Etária de 15 - 29 anos - Homens](http://www.ipea.gov.br/atlasviolencia/dados-series/74)\n",
    "- []()"
   ]
  },
  {
   "cell_type": "markdown",
   "metadata": {
    "collapsed": true
   },
   "source": [
    "No [Portal Brasileiro de Dados Abertos](http://dados.gov.br/) é possível selecionar uma organização e verificar quais os conjuntos de dados que ela dispõe.\n",
    "\n",
    "\n",
    "[Olhando o conjunto de dados do INEP](http://dados.gov.br/organization/instituto-nacional-de-estudos-e-pesquisas-educacionais-anisio-teixeira-inep) - Instituto Nacional de Estudos e Pesquisas Educacionais Anísio Teixeira)\n",
    "selecionamos o [conjunto Instituições de Ensino Básico](http://dados.gov.br/dataset/instituicoes-de-ensino-basico) a fim de explorar esse contexto e também por existir um link direto para os dados."
   ]
  },
  {
   "cell_type": "markdown",
   "metadata": {},
   "source": [
    "Vamos iniciar com 3 passos básicos que sempre serão necessários ao dar início a uma atividade de análise:\n",
    "\n",
    "**1 - Vamos importar os dados que estão lá no link para dentro do nosso Notebook.**\n",
    "\n",
    "URL é um outro nome para os links que conhecemos. \n",
    "Na página do conjunto de dados que queremos existe uma informação exatamente assim:\n",
    "\n",
    "<img src=\"../imagens/print_url.png\">\n",
    "\n",
    "Vamos copiar o que tem no campo 'URL' e colar abaixo como o valor da nossa variável 'url'"
   ]
  },
  {
   "cell_type": "code",
   "execution_count": 6,
   "metadata": {
    "collapsed": true
   },
   "outputs": [],
   "source": [
    "import pandas as pd\n",
    "import requests\n",
    "import matplotlib.pyplot as plt"
   ]
  },
  {
   "cell_type": "code",
   "execution_count": 7,
   "metadata": {
    "collapsed": true
   },
   "outputs": [],
   "source": [
    "url = 'http://repositorio.dados.gov.br/educacao/CADASTRO_MATRICULAS_REGIAO_NORDESTE_PE_AL_SE_BA_2012.csv'"
   ]
  },
  {
   "cell_type": "code",
   "execution_count": 8,
   "metadata": {},
   "outputs": [
    {
     "name": "stderr",
     "output_type": "stream",
     "text": [
      "/home/lsp/anaconda2/envs/notebookEnv/lib/python3.6/site-packages/IPython/core/interactiveshell.py:2698: DtypeWarning: Columns (0) have mixed types. Specify dtype option on import or set low_memory=False.\n",
      "  interactivity=interactivity, compiler=compiler, result=result)\n"
     ]
    },
    {
     "data": {
      "text/html": [
       "<div>\n",
       "<style scoped>\n",
       "    .dataframe tbody tr th:only-of-type {\n",
       "        vertical-align: middle;\n",
       "    }\n",
       "\n",
       "    .dataframe tbody tr th {\n",
       "        vertical-align: top;\n",
       "    }\n",
       "\n",
       "    .dataframe thead th {\n",
       "        text-align: right;\n",
       "    }\n",
       "</style>\n",
       "<table border=\"1\" class=\"dataframe\">\n",
       "  <thead>\n",
       "    <tr style=\"text-align: right;\">\n",
       "      <th></th>\n",
       "      <th>ANO_CENSO</th>\n",
       "      <th>PK_COD_ENTIDADE</th>\n",
       "      <th>Nome_Escola</th>\n",
       "      <th>REDE</th>\n",
       "      <th>ID_DEPENDENCIA_ADM</th>\n",
       "      <th>Dependencia_Administrativa</th>\n",
       "      <th>CATESCPRIVADA</th>\n",
       "      <th>Localizacao</th>\n",
       "      <th>REGIAO</th>\n",
       "      <th>FK_COD_ESTADO</th>\n",
       "      <th>...</th>\n",
       "      <th>MATEEINCL</th>\n",
       "      <th>NESCEE</th>\n",
       "      <th>MATESPTOT</th>\n",
       "      <th>NESCEDESP</th>\n",
       "      <th>MATESP</th>\n",
       "      <th>NESCEDESPEXCLUS</th>\n",
       "      <th>MATESPEXCLUS</th>\n",
       "      <th>NESCEDESPCLESP</th>\n",
       "      <th>MATESPCLESP</th>\n",
       "      <th>ESCACESS</th>\n",
       "    </tr>\n",
       "  </thead>\n",
       "  <tbody>\n",
       "    <tr>\n",
       "      <th>0</th>\n",
       "      <td>2012</td>\n",
       "      <td>26000016.0</td>\n",
       "      <td>CENTRO EDUCACIONAL DO ARARIPE</td>\n",
       "      <td>Privada</td>\n",
       "      <td>4.0</td>\n",
       "      <td>Privada</td>\n",
       "      <td>Particular</td>\n",
       "      <td>Urbana</td>\n",
       "      <td>Nordeste</td>\n",
       "      <td>26.0</td>\n",
       "      <td>...</td>\n",
       "      <td>1.0</td>\n",
       "      <td>1.0</td>\n",
       "      <td>1.0</td>\n",
       "      <td>0.0</td>\n",
       "      <td>0.0</td>\n",
       "      <td>0.0</td>\n",
       "      <td>0.0</td>\n",
       "      <td>0.0</td>\n",
       "      <td>0.0</td>\n",
       "      <td>1.0</td>\n",
       "    </tr>\n",
       "    <tr>\n",
       "      <th>1</th>\n",
       "      <td>2012</td>\n",
       "      <td>26000024.0</td>\n",
       "      <td>ESCOLA LUIZ GONZAGA DUARTE</td>\n",
       "      <td>Pública</td>\n",
       "      <td>2.0</td>\n",
       "      <td>Estadual</td>\n",
       "      <td>NaN</td>\n",
       "      <td>Urbana</td>\n",
       "      <td>Nordeste</td>\n",
       "      <td>26.0</td>\n",
       "      <td>...</td>\n",
       "      <td>20.0</td>\n",
       "      <td>1.0</td>\n",
       "      <td>45.0</td>\n",
       "      <td>1.0</td>\n",
       "      <td>25.0</td>\n",
       "      <td>0.0</td>\n",
       "      <td>0.0</td>\n",
       "      <td>1.0</td>\n",
       "      <td>25.0</td>\n",
       "      <td>1.0</td>\n",
       "    </tr>\n",
       "    <tr>\n",
       "      <th>2</th>\n",
       "      <td>2012</td>\n",
       "      <td>26000032.0</td>\n",
       "      <td>CRECHE CORACAO DE MARIA</td>\n",
       "      <td>Pública</td>\n",
       "      <td>3.0</td>\n",
       "      <td>Municipal</td>\n",
       "      <td>NaN</td>\n",
       "      <td>Urbana</td>\n",
       "      <td>Nordeste</td>\n",
       "      <td>26.0</td>\n",
       "      <td>...</td>\n",
       "      <td>0.0</td>\n",
       "      <td>0.0</td>\n",
       "      <td>0.0</td>\n",
       "      <td>0.0</td>\n",
       "      <td>0.0</td>\n",
       "      <td>0.0</td>\n",
       "      <td>0.0</td>\n",
       "      <td>0.0</td>\n",
       "      <td>0.0</td>\n",
       "      <td>0.0</td>\n",
       "    </tr>\n",
       "    <tr>\n",
       "      <th>3</th>\n",
       "      <td>2012</td>\n",
       "      <td>26000067.0</td>\n",
       "      <td>ESCOLA ALEXANDRE GUALTER DE ALENCAR</td>\n",
       "      <td>Pública</td>\n",
       "      <td>3.0</td>\n",
       "      <td>Municipal</td>\n",
       "      <td>NaN</td>\n",
       "      <td>Rural</td>\n",
       "      <td>Nordeste</td>\n",
       "      <td>26.0</td>\n",
       "      <td>...</td>\n",
       "      <td>0.0</td>\n",
       "      <td>0.0</td>\n",
       "      <td>0.0</td>\n",
       "      <td>0.0</td>\n",
       "      <td>0.0</td>\n",
       "      <td>0.0</td>\n",
       "      <td>0.0</td>\n",
       "      <td>0.0</td>\n",
       "      <td>0.0</td>\n",
       "      <td>0.0</td>\n",
       "    </tr>\n",
       "    <tr>\n",
       "      <th>4</th>\n",
       "      <td>2012</td>\n",
       "      <td>26000075.0</td>\n",
       "      <td>ESCOLA ALMEIDA JUNIOR</td>\n",
       "      <td>Pública</td>\n",
       "      <td>3.0</td>\n",
       "      <td>Municipal</td>\n",
       "      <td>NaN</td>\n",
       "      <td>Rural</td>\n",
       "      <td>Nordeste</td>\n",
       "      <td>26.0</td>\n",
       "      <td>...</td>\n",
       "      <td>0.0</td>\n",
       "      <td>0.0</td>\n",
       "      <td>0.0</td>\n",
       "      <td>0.0</td>\n",
       "      <td>0.0</td>\n",
       "      <td>0.0</td>\n",
       "      <td>0.0</td>\n",
       "      <td>0.0</td>\n",
       "      <td>0.0</td>\n",
       "      <td>0.0</td>\n",
       "    </tr>\n",
       "  </tbody>\n",
       "</table>\n",
       "<p>5 rows × 254 columns</p>\n",
       "</div>"
      ],
      "text/plain": [
       "  ANO_CENSO  PK_COD_ENTIDADE                          Nome_Escola     REDE  \\\n",
       "0      2012       26000016.0        CENTRO EDUCACIONAL DO ARARIPE  Privada   \n",
       "1      2012       26000024.0           ESCOLA LUIZ GONZAGA DUARTE  Pública   \n",
       "2      2012       26000032.0              CRECHE CORACAO DE MARIA  Pública   \n",
       "3      2012       26000067.0  ESCOLA ALEXANDRE GUALTER DE ALENCAR  Pública   \n",
       "4      2012       26000075.0                ESCOLA ALMEIDA JUNIOR  Pública   \n",
       "\n",
       "   ID_DEPENDENCIA_ADM Dependencia_Administrativa CATESCPRIVADA Localizacao  \\\n",
       "0                 4.0                    Privada    Particular      Urbana   \n",
       "1                 2.0                   Estadual           NaN      Urbana   \n",
       "2                 3.0                  Municipal           NaN      Urbana   \n",
       "3                 3.0                  Municipal           NaN       Rural   \n",
       "4                 3.0                  Municipal           NaN       Rural   \n",
       "\n",
       "     REGIAO  FK_COD_ESTADO  ... MATEEINCL NESCEE  MATESPTOT  NESCEDESP MATESP  \\\n",
       "0  Nordeste           26.0  ...       1.0    1.0        1.0        0.0    0.0   \n",
       "1  Nordeste           26.0  ...      20.0    1.0       45.0        1.0   25.0   \n",
       "2  Nordeste           26.0  ...       0.0    0.0        0.0        0.0    0.0   \n",
       "3  Nordeste           26.0  ...       0.0    0.0        0.0        0.0    0.0   \n",
       "4  Nordeste           26.0  ...       0.0    0.0        0.0        0.0    0.0   \n",
       "\n",
       "  NESCEDESPEXCLUS MATESPEXCLUS NESCEDESPCLESP MATESPCLESP  ESCACESS  \n",
       "0             0.0          0.0            0.0         0.0       1.0  \n",
       "1             0.0          0.0            1.0        25.0       1.0  \n",
       "2             0.0          0.0            0.0         0.0       0.0  \n",
       "3             0.0          0.0            0.0         0.0       0.0  \n",
       "4             0.0          0.0            0.0         0.0       0.0  \n",
       "\n",
       "[5 rows x 254 columns]"
      ]
     },
     "execution_count": 8,
     "metadata": {},
     "output_type": "execute_result"
    }
   ],
   "source": [
    "educacao_basica = pd.read_csv(filepath_or_buffer=url, delimiter=';', header=11, encoding = \"ISO-8859-1\")\n",
    "educacao_basica.head()"
   ]
  },
  {
   "cell_type": "code",
   "execution_count": 4,
   "metadata": {},
   "outputs": [
    {
     "ename": "NameError",
     "evalue": "name 'educacao_basica' is not defined",
     "output_type": "error",
     "traceback": [
      "\u001b[0;31m---------------------------------------------------------------------------\u001b[0m",
      "\u001b[0;31mNameError\u001b[0m                                 Traceback (most recent call last)",
      "\u001b[0;32m<ipython-input-4-6290079041cb>\u001b[0m in \u001b[0;36m<module>\u001b[0;34m()\u001b[0m\n\u001b[0;32m----> 1\u001b[0;31m \u001b[0meducacao_basica\u001b[0m\u001b[0;34m.\u001b[0m\u001b[0mcolumns\u001b[0m\u001b[0;34m.\u001b[0m\u001b[0mvalues\u001b[0m\u001b[0;34m\u001b[0m\u001b[0m\n\u001b[0m",
      "\u001b[0;31mNameError\u001b[0m: name 'educacao_basica' is not defined"
     ]
    }
   ],
   "source": [
    "educacao_basica.columns.values"
   ]
  },
  {
   "cell_type": "code",
   "execution_count": 5,
   "metadata": {},
   "outputs": [
    {
     "ename": "SyntaxError",
     "evalue": "invalid syntax (<ipython-input-5-0e1d07623c8d>, line 3)",
     "output_type": "error",
     "traceback": [
      "\u001b[0;36m  File \u001b[0;32m\"<ipython-input-5-0e1d07623c8d>\"\u001b[0;36m, line \u001b[0;32m3\u001b[0m\n\u001b[0;31m    Agora temos uma noção das perguntas que podemos fazer e responder com esses dados.\u001b[0m\n\u001b[0m              ^\u001b[0m\n\u001b[0;31mSyntaxError\u001b[0m\u001b[0;31m:\u001b[0m invalid syntax\n"
     ]
    }
   ],
   "source": []
  },
  {
   "cell_type": "markdown",
   "metadata": {},
   "source": [
    "## CSV - \n",
    "## Excel - \n",
    "## HTML\n",
    "## API\n",
    "## SAS"
   ]
  }
 ],
 "metadata": {
  "kernelspec": {
   "display_name": "Python 3",
   "language": "python",
   "name": "python3"
  },
  "language_info": {
   "codemirror_mode": {
    "name": "ipython",
    "version": 3
   },
   "file_extension": ".py",
   "mimetype": "text/x-python",
   "name": "python",
   "nbconvert_exporter": "python",
   "pygments_lexer": "ipython3",
   "version": "3.6.3"
  }
 },
 "nbformat": 4,
 "nbformat_minor": 2
}
