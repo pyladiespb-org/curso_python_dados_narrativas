{
 "cells": [
  {
   "cell_type": "markdown",
   "metadata": {},
   "source": [
    "# Notebook 1 - Contexto, fonte e formato dos dados.\n",
    "\n",
    "*Python, Dados e Narrativas*\n",
    "\n",
    "## Contexto\n",
    "\n",
    "\n",
    "<img src=\"../imagens/slide6.png\">\n",
    "\n",
    "### Coloque seus dados:"
   ]
  },
  {
   "cell_type": "code",
   "execution_count": null,
   "metadata": {
    "collapsed": true
   },
   "outputs": [],
   "source": [
    "nome = ''\n",
    "idade = \n",
    "altura = "
   ]
  },
  {
   "cell_type": "markdown",
   "metadata": {},
   "source": [
    "### Que tipo de dado é esse?"
   ]
  },
  {
   "cell_type": "code",
   "execution_count": null,
   "metadata": {
    "collapsed": true
   },
   "outputs": [],
   "source": [
    "type()"
   ]
  },
  {
   "cell_type": "markdown",
   "metadata": {},
   "source": [
    "<img src=\"../imagens/slide7.png\">\n",
    "<img src=\"../imagens/slide8.png\">"
   ]
  },
  {
   "cell_type": "markdown",
   "metadata": {},
   "source": [
    "## Fonte de Dados\n",
    "\n",
    "<img src=\"../imagens/slide9.png\">\n",
    "\n",
    "**Vamos aos links:**\n",
    "\n",
    "- [SIDRA - IBGE](https://sidra.ibge.gov.br/home/pimpfrg/nordeste)\n",
    "- [Portal Brasileiro de Dados Abertos](http://dados.gov.br/)\n",
    "- [Brasil IO](https://brasil.io/home)\n",
    "- [API Dados Abertos da Câmara dos Deputados](https://dadosabertos.camara.leg.br/swagger/api.html) \n",
    "- [INEP - Instituto Nacional de Estudos e Pesquisas Educacionais Anísio Teixeira](http://inep.gov.br/dados)\n",
    "- [IPEA - Instituto de Pesquisa Econômica Aplicada](http://www.ipeadata.gov.br/Default.aspx)\n",
    "- [IPEA - Atlas da Violência - Homicídios Faixa Etária de 15 - 29 anos - Mulheres](http://www.ipea.gov.br/atlasviolencia/dados-series/74)\n",
    "- [IPEA - Atlas da Violência - Homicídios Faixa Etária de 15 - 29 anos - Homens](http://www.ipea.gov.br/atlasviolencia/dados-series/71)\n",
    "- [Expectativa de Vida - Organização mundial de Saúde](http://apps.who.int/gho/data/view.main.SDG2016LEXREGv?lang=en)\n",
    "- [IPEA - Atlas da Violência](http://www.ipea.gov.br/atlasviolencia/downloads)"
   ]
  },
  {
   "cell_type": "markdown",
   "metadata": {},
   "source": [
    "<img src=\"../imagens/slide10.png\">\n",
    "\n",
    "## Formato dos dados de Dados\n",
    "\n",
    "<img src=\"../imagens/slide11.png\">"
   ]
  },
  {
   "cell_type": "markdown",
   "metadata": {},
   "source": [
    "## Epa! O que é isso aí embaixo? *Import* quem? Bibliotecas?"
   ]
  },
  {
   "cell_type": "code",
   "execution_count": null,
   "metadata": {
    "collapsed": true
   },
   "outputs": [],
   "source": [
    "import pandas as pd\n",
    "import requests"
   ]
  },
  {
   "cell_type": "markdown",
   "metadata": {},
   "source": [
    "### Olhando os dados mais de perto + um pouco de Python e Pandas**\n",
    "\n",
    "### 1 - CSV\n",
    "\n",
    "Dados do SIDRA - https://sidra.ibge.gov.br/pesquisa/censo-demografico/demografico-2010/universo-caracteristicas-da-populacao-e-dos-domicilios \n",
    "\n",
    "Passo a passo - Selecionar tabela 3175, formatar visualização, escolher campos e baixar tabela."
   ]
  },
  {
   "cell_type": "code",
   "execution_count": null,
   "metadata": {},
   "outputs": [],
   "source": [
    "url = 'https://raw.githubusercontent.com/pyladiespb-org/minicurso-analise-descritiva-dados-abertos/master/data/populacao/populacao_genero_cor_2010.csv'\n",
    "url"
   ]
  },
  {
   "cell_type": "code",
   "execution_count": null,
   "metadata": {},
   "outputs": [],
   "source": [
    "type(url)"
   ]
  },
  {
   "cell_type": "code",
   "execution_count": null,
   "metadata": {
    "collapsed": true
   },
   "outputs": [],
   "source": [
    "populacao = pd.read_csv(url, delimiter=';', header=2)"
   ]
  },
  {
   "cell_type": "code",
   "execution_count": null,
   "metadata": {},
   "outputs": [],
   "source": [
    "populacao.head(10)"
   ]
  },
  {
   "cell_type": "code",
   "execution_count": null,
   "metadata": {},
   "outputs": [],
   "source": [
    "type(populacao)"
   ]
  },
  {
   "cell_type": "markdown",
   "metadata": {},
   "source": [
    "### 2 - Excel\n",
    "\n",
    "Estádios de futebol em Alagoas - http://dados.gov.br/dataset/estadios-de-futebol-alagoas\n",
    "\n",
    "Passo a passo: Selecionar arquivo com a extensão desejada, ver mais informações, ir para o recurso e baixar o arquivo."
   ]
  },
  {
   "cell_type": "code",
   "execution_count": null,
   "metadata": {},
   "outputs": [],
   "source": [
    "local_do_arquivo = \"../dados/estadiosdefutebol.xls\"\n",
    "local_do_arquivo"
   ]
  },
  {
   "cell_type": "code",
   "execution_count": null,
   "metadata": {
    "collapsed": true
   },
   "outputs": [],
   "source": [
    "# Tente a url agora!\n",
    "\n",
    "url = ''"
   ]
  },
  {
   "cell_type": "code",
   "execution_count": null,
   "metadata": {
    "scrolled": true
   },
   "outputs": [],
   "source": [
    "# Substitua 'local_do_arquivo' por 'url'\n",
    "\n",
    "estadios = pd.read_excel(local_do_arquivo)\n",
    "estadios.head()"
   ]
  },
  {
   "cell_type": "markdown",
   "metadata": {},
   "source": [
    "### 3 - JSON\n",
    "\n",
    "Dados abertos da Câmara dos Deputados - https://dadosabertos.camara.leg.br/swagger/api.html\n",
    "\n",
    "Passo a passo: Fazer requisição da url, percorrer as páginas enquanto houver registros"
   ]
  },
  {
   "cell_type": "code",
   "execution_count": null,
   "metadata": {},
   "outputs": [],
   "source": [
    "url_deputadxs = 'https://dadosabertos.camara.leg.br/api/v2/deputados'\n",
    "url_deputadxs"
   ]
  },
  {
   "cell_type": "code",
   "execution_count": null,
   "metadata": {},
   "outputs": [],
   "source": [
    "lista_deputadxs = requests.get(url_deputadxs)\n",
    "lista_deputadxs"
   ]
  },
  {
   "cell_type": "code",
   "execution_count": null,
   "metadata": {},
   "outputs": [],
   "source": [
    "type(lista_deputadxs)"
   ]
  },
  {
   "cell_type": "code",
   "execution_count": null,
   "metadata": {},
   "outputs": [],
   "source": [
    "lista_deputadxs.json()"
   ]
  },
  {
   "cell_type": "code",
   "execution_count": null,
   "metadata": {
    "scrolled": false
   },
   "outputs": [],
   "source": [
    "lista_deputadxs = lista_deputadxs.json()\n",
    "type(lista_deputadxs)"
   ]
  },
  {
   "cell_type": "markdown",
   "metadata": {},
   "source": [
    "#### Quantos deputadxs temos aqui?"
   ]
  },
  {
   "cell_type": "code",
   "execution_count": null,
   "metadata": {},
   "outputs": [],
   "source": [
    "len(lista_deputados.get('dados'))"
   ]
  },
  {
   "cell_type": "code",
   "execution_count": null,
   "metadata": {
    "scrolled": false
   },
   "outputs": [],
   "source": [
    "for deputadx in lista_deputados.get('dados'):\n",
    "    print(deputadx.get('nome') + ' - ' + deputadx.get('siglaUf'))"
   ]
  },
  {
   "cell_type": "markdown",
   "metadata": {},
   "source": [
    "## Próximo! "
   ]
  }
 ],
 "metadata": {
  "kernelspec": {
   "display_name": "Python 3",
   "language": "python",
   "name": "python3"
  },
  "language_info": {
   "codemirror_mode": {
    "name": "ipython",
    "version": 3
   },
   "file_extension": ".py",
   "mimetype": "text/x-python",
   "name": "python",
   "nbconvert_exporter": "python",
   "pygments_lexer": "ipython3",
   "version": "3.6.3"
  }
 },
 "nbformat": 4,
 "nbformat_minor": 2
}
