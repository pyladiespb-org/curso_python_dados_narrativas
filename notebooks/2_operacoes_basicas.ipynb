{
 "cells": [
  {
   "cell_type": "markdown",
   "metadata": {},
   "source": [
    "# Notebook 2 - Operações Básicas\n",
    "\n",
    "Python, Dados e Narrativas"
   ]
  },
  {
   "cell_type": "markdown",
   "metadata": {},
   "source": [
    "### 1 -  Import\n",
    "\n",
    "Essa nós já vimos bastante no notebook anterior. \n",
    "\n",
    "Inclusive, importe os dados que nós vamos utilizar nesse notebook."
   ]
  },
  {
   "cell_type": "code",
   "execution_count": null,
   "metadata": {
    "collapsed": true
   },
   "outputs": [],
   "source": [
    "import pandas as pd"
   ]
  },
  {
   "cell_type": "code",
   "execution_count": null,
   "metadata": {
    "collapsed": true
   },
   "outputs": [],
   "source": [
    "url = 'https://raw.githubusercontent.com/pyladiespb-org/minicurso-analise-descritiva-dados-abertos/master/data/populacao/populacao_genero_cor_2010.csv'\n",
    "url"
   ]
  },
  {
   "cell_type": "code",
   "execution_count": null,
   "metadata": {
    "collapsed": true
   },
   "outputs": [],
   "source": [
    "populacao = pd.read_csv(url, delimiter=';', header=2)"
   ]
  },
  {
   "cell_type": "code",
   "execution_count": null,
   "metadata": {
    "collapsed": true
   },
   "outputs": [],
   "source": [
    "# Visualize as 10 primeiras linhas da tabela\n",
    "\n",
    "populacao.head()"
   ]
  },
  {
   "cell_type": "code",
   "execution_count": null,
   "metadata": {
    "collapsed": true
   },
   "outputs": [],
   "source": [
    "populacao.columns"
   ]
  },
  {
   "cell_type": "markdown",
   "metadata": {},
   "source": [
    "Agora que importamos o dados, será que é preciso algum ajuste? algum pré processamento?\n",
    "\n",
    "**Pausa estratégica: O que é pré processamento de dados?**\n",
    "\n",
    "<img src=\"https://media.giphy.com/media/fpXxIjftmkk9y/giphy.gif\">\n",
    "\n",
    "É todo tratamento que precisamos fazer nos dados antes da análise: Renomear colunas, retirar registros vazios, retirar erros de digitação, juntar dados que queremos analisar... Vá por mim, é tanta coisa estranha que pode vir na fonte de dados que você nem imagina...\n",
    "\n",
    "No nosso caso vamos renomear a coluna 'Unnamed: 6' e deixar mais fácil a legibilidade da coluna 'Unidade da Federação'."
   ]
  },
  {
   "cell_type": "code",
   "execution_count": null,
   "metadata": {
    "collapsed": true
   },
   "outputs": [],
   "source": [
    "populacao = populacao.rename(columns={'Unnamed: 6': \"Quantidade\", \n",
    "                                      'Unidade da Federação': \"Estado\"})\n",
    "populacao.head()"
   ]
  },
  {
   "cell_type": "markdown",
   "metadata": {},
   "source": [
    "Será que acabou? E se olharmos o final do arquivo?"
   ]
  },
  {
   "cell_type": "code",
   "execution_count": null,
   "metadata": {
    "collapsed": true
   },
   "outputs": [],
   "source": [
    "populacao[57670:]"
   ]
  },
  {
   "cell_type": "markdown",
   "metadata": {},
   "source": [
    "Existem valores ali que são apenas descritivo dos dados e não devem ser consideração junto dos demais. Vamor retirar!\n",
    "\n",
    "Observando o índice da linha da tabela é possível fazer o recorte."
   ]
  },
  {
   "cell_type": "code",
   "execution_count": null,
   "metadata": {
    "collapsed": true
   },
   "outputs": [],
   "source": [
    "populacao = populacao[:57672]\n",
    "populacao.tail()"
   ]
  },
  {
   "cell_type": "markdown",
   "metadata": {},
   "source": [
    "Existem ainda registros que para indicar a ausência de informação possuem '-' ao invés de 0. Vamos corrigir!"
   ]
  },
  {
   "cell_type": "code",
   "execution_count": null,
   "metadata": {
    "collapsed": true,
    "scrolled": true
   },
   "outputs": [],
   "source": [
    "populacao= populacao.replace('-', 0)\n",
    "populacao.tail()"
   ]
  },
  {
   "cell_type": "markdown",
   "metadata": {},
   "source": [
    "Vocês notaram como a informação de 'Ano' está?"
   ]
  },
  {
   "cell_type": "code",
   "execution_count": null,
   "metadata": {
    "collapsed": true
   },
   "outputs": [],
   "source": [
    "populacao.dtypes"
   ]
  },
  {
   "cell_type": "markdown",
   "metadata": {},
   "source": [
    "Ahaaaaaa! 'Ano' está como número decimal ao invés de string, ou date...\n",
    "\n",
    "E a coluna 'Quantidade' está como object ao invés de inteiro...\n",
    "\n",
    "Não perca as esperanças ainda. Vamos corrigir!"
   ]
  },
  {
   "cell_type": "code",
   "execution_count": null,
   "metadata": {
    "collapsed": true
   },
   "outputs": [],
   "source": [
    "populacao['Quantidade'] = populacao['Quantidade'].astype(int)\n",
    "populacao['Ano'] = populacao['Ano'].astype(object)\n",
    "populacao.dtypes"
   ]
  },
  {
   "cell_type": "markdown",
   "metadata": {},
   "source": [
    "Agora pronto!\n",
    "\n",
    "### 2 - Agrupamento e Somatório\n",
    "\n",
    "O agrupamento de dados é basicamente realizar uma operação sobre um dos atributos dos dados considerando que eles tem um outro atributo em comum, o que indica semelhança entre eles. Essa operação pode ser uma média, soma de valores, selecionar o valor máximo, contar a quantidade de linhas, entre outros.\n",
    "\n",
    "Por exemplo, uma vez que tenhamos uma tabela com as colunas 'Região', 'Estado', 'Cidade' e 'Quantidade', podemos agrupar os dados de forma a descobrir qual o valor total da quantidade considerando a Região.\n",
    "\n",
    "Como fazemos isso na prática? Somando todos os valores da coluna 'Quantidade' que tenham os valores iguais para a coluna 'Região'.\n",
    "\n",
    "Com o infográfico abaixo vai ficar mais fácil de ver\n",
    "\n",
    "<img src=\"../imagens/agrupamento_regiao.png\">\n",
    "\n",
    "O que também é possível de ser feito considerando o Estado\n",
    "\n",
    "<img src=\"../imagens/agrupamento_estado.png\">\n",
    "\n",
    "Vamos lá! Agrupando e somando. Mas por qual coluna?"
   ]
  },
  {
   "cell_type": "code",
   "execution_count": null,
   "metadata": {
    "collapsed": true
   },
   "outputs": [],
   "source": [
    "populacao.columns"
   ]
  },
  {
   "cell_type": "markdown",
   "metadata": {},
   "source": [
    "Que tal descobrimos a distribuição entre homens e mulheres no país?"
   ]
  },
  {
   "cell_type": "code",
   "execution_count": null,
   "metadata": {
    "collapsed": true
   },
   "outputs": [],
   "source": [
    "genero = populacao.groupby('Sexo').sum()\n",
    "genero"
   ]
  },
  {
   "cell_type": "code",
   "execution_count": null,
   "metadata": {
    "collapsed": true
   },
   "outputs": [],
   "source": [
    "genero_porcentagem = genero['Quantidade']/sum(genero['Quantidade'])*100\n",
    "\n",
    "genero_porcentagem = pd.DataFrame(genero_porcentagem)\n",
    "\n",
    "genero_porcentagem.style.format({\n",
    "    'Quantidade': '{:.2f}%'.format\n",
    "})"
   ]
  },
  {
   "cell_type": "markdown",
   "metadata": {},
   "source": [
    "E se fizermos isso para cada 'Estado'?"
   ]
  },
  {
   "cell_type": "code",
   "execution_count": null,
   "metadata": {
    "collapsed": true
   },
   "outputs": [],
   "source": [
    "genero_estado = populacao.groupby(['Sexo', 'Estado']).sum().reset_index()\n",
    "genero_estado"
   ]
  },
  {
   "cell_type": "markdown",
   "metadata": {},
   "source": [
    "### 3 - Ordenação\n",
    "\n",
    "Ver os dados acima até que é legal, mas é meio dificil descobrir qual o estado com mais mulheres.\n",
    "\n",
    "Para resolver isso, primeiro a gente filtra"
   ]
  },
  {
   "cell_type": "code",
   "execution_count": null,
   "metadata": {
    "collapsed": true
   },
   "outputs": [],
   "source": [
    "mulheres = genero_estado.loc[genero_estado['Sexo'] == 'Mulheres']\n",
    "mulheres"
   ]
  },
  {
   "cell_type": "markdown",
   "metadata": {},
   "source": [
    "Depois a gente ordena por ordem descrescente. E aí está o nosso Ranking da População Feminina."
   ]
  },
  {
   "cell_type": "code",
   "execution_count": null,
   "metadata": {
    "collapsed": true,
    "scrolled": false
   },
   "outputs": [],
   "source": [
    "mulheres.sort_values('Quantidade', ascending=False)"
   ]
  },
  {
   "cell_type": "markdown",
   "metadata": {},
   "source": [
    "### 4 - Média\n",
    "\n",
    "Qual será a média de mulheres por Estado?"
   ]
  },
  {
   "cell_type": "code",
   "execution_count": null,
   "metadata": {
    "collapsed": true
   },
   "outputs": [],
   "source": [
    "pd.options.display.float_format = '{:.2f}'.format"
   ]
  },
  {
   "cell_type": "code",
   "execution_count": null,
   "metadata": {
    "collapsed": true
   },
   "outputs": [],
   "source": [
    "mulheres.groupby('Sexo').mean()"
   ]
  },
  {
   "cell_type": "markdown",
   "metadata": {},
   "source": [
    "Olha só! A média da população feminina por estado é de aproximadamente 3,5 milhões...\n",
    "\n",
    "**Isso significa que é esperado que as populações de todos os estados estejam perto desse valor?**"
   ]
  },
  {
   "cell_type": "markdown",
   "metadata": {},
   "source": [
    "<img src=\"https://media.giphy.com/media/eeL8EcBBTwSMLACw6F/source.gif\">"
   ]
  },
  {
   "cell_type": "markdown",
   "metadata": {},
   "source": [
    "Vamos voltar no ranking que fizemos sobre população de mulheres.\n",
    "É possível perceber que essa afirmação soa um pouco estranha quando consideramos que Acre, Amapá e Roraima\n",
    "tem uma população feminina menor que 500 mil e São Paulo que tem 21 milhões, é o único estado com população feminina acima de 10 milhões. \n",
    "\n",
    "A média representa o valor onde os dados se concentram e pode ser fortemente afetada por valores altos demais ou \n",
    "baixos demais quando comparados com os demais valores. Por isso, é preciso ter cuidado ao utilizar a média. \n",
    "É preciso estar ciente do que ela significa e de como ela pode ser afetada.\n",
    "\n",
    "Aproveitando esse momento, vamos falar de mais um ponto bastante importante.\n",
    "Por exemplo, se nós tivéssemos dados históricos indicando que a população de mulheres vem crescendo, juntamente com dados que mostrassem o crescimento de roubos de chocolates nos supermercados... Poderíamos afirmar que os chocolates estão sendo roubados porque existem mais mulheres? Que as mulheres estão roubando o chocolocate? Hummmm.. Será? Eu ainda acho que podem ser as crianças...\n",
    "\n",
    "**Não gente! Não podemos fazer esse tipo de afirmação considerando apenas que duas variáveis cresceram juntas. Em casos assim podemos nos deixar levar e pensar que uma variável causa a outra, quando na verdade elas só estão correlacionadas...**"
   ]
  },
  {
   "cell_type": "markdown",
   "metadata": {},
   "source": [
    "### Eu vou colocar bem grande que é pra você não esquecer"
   ]
  },
  {
   "cell_type": "markdown",
   "metadata": {},
   "source": [
    "<img src=\"../imagens/slide12v2.png\">\n",
    "\n",
    "### Próximo!"
   ]
  }
 ],
 "metadata": {
  "kernelspec": {
   "display_name": "Python 3",
   "language": "python",
   "name": "python3"
  },
  "language_info": {
   "codemirror_mode": {
    "name": "ipython",
    "version": 3
   },
   "file_extension": ".py",
   "mimetype": "text/x-python",
   "name": "python",
   "nbconvert_exporter": "python",
   "pygments_lexer": "ipython3",
   "version": "3.6.3"
  }
 },
 "nbformat": 4,
 "nbformat_minor": 2
}
