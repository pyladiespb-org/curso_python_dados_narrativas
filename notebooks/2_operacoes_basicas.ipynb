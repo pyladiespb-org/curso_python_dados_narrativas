{
 "cells": [
  {
   "cell_type": "markdown",
   "metadata": {},
   "source": [
    "# Notebook 2 - Operações Básicas\n",
    "\n",
    "Python, Dados e Narrativas\n",
    "\n",
    "\n",
    "Compreende algumas operações básicas com os dados, como: *import*, somatório, média, mediana, agrupamento e ordenação.\n",
    "\n",
    "<img src=\"https://media.giphy.com/media/eeL8EcBBTwSMLACw6F/source.gif\">\n",
    "\n",
    "\n",
    "<img src=\"../imagens/slide12.png\">\n"
   ]
  },
  {
   "cell_type": "code",
   "execution_count": 1,
   "metadata": {},
   "outputs": [
    {
     "ename": "NameError",
     "evalue": "name 'educacao_basica' is not defined",
     "output_type": "error",
     "traceback": [
      "\u001b[0;31m---------------------------------------------------------------------------\u001b[0m",
      "\u001b[0;31mNameError\u001b[0m                                 Traceback (most recent call last)",
      "\u001b[0;32m<ipython-input-1-8e31f2a4c5c0>\u001b[0m in \u001b[0;36m<module>\u001b[0;34m()\u001b[0m\n\u001b[0;32m----> 1\u001b[0;31m \u001b[0meducacao_basica\u001b[0m\u001b[0;34m.\u001b[0m\u001b[0mgroupby\u001b[0m\u001b[0;34m(\u001b[0m\u001b[0;34m[\u001b[0m\u001b[0;34m'REDE'\u001b[0m\u001b[0;34m,\u001b[0m \u001b[0;34m'UF'\u001b[0m\u001b[0;34m]\u001b[0m\u001b[0;34m)\u001b[0m\u001b[0;34m.\u001b[0m\u001b[0msize\u001b[0m\u001b[0;34m(\u001b[0m\u001b[0;34m)\u001b[0m\u001b[0;34m.\u001b[0m\u001b[0mreset_index\u001b[0m\u001b[0;34m(\u001b[0m\u001b[0mname\u001b[0m\u001b[0;34m=\u001b[0m\u001b[0;34m'Quantidade'\u001b[0m\u001b[0;34m)\u001b[0m\u001b[0;34m.\u001b[0m\u001b[0msort_values\u001b[0m\u001b[0;34m(\u001b[0m\u001b[0;34m'Quantidade'\u001b[0m\u001b[0;34m)\u001b[0m\u001b[0;34m\u001b[0m\u001b[0m\n\u001b[0m",
      "\u001b[0;31mNameError\u001b[0m: name 'educacao_basica' is not defined"
     ]
    }
   ],
   "source": [
    "educacao_basica.groupby(['REDE', 'UF']).size().reset_index(name='Quantidade').sort_values('Quantidade')"
   ]
  },
  {
   "cell_type": "code",
   "execution_count": null,
   "metadata": {
    "collapsed": true
   },
   "outputs": [],
   "source": [
    "<img src=\"../imagens/print_url.png\">\n"
   ]
  },
  {
   "cell_type": "code",
   "execution_count": 5,
   "metadata": {},
   "outputs": [
    {
     "ename": "SyntaxError",
     "evalue": "invalid syntax (<ipython-input-5-956d8f61e0f3>, line 3)",
     "output_type": "error",
     "traceback": [
      "\u001b[0;36m  File \u001b[0;32m\"<ipython-input-5-956d8f61e0f3>\"\u001b[0;36m, line \u001b[0;32m3\u001b[0m\n\u001b[0;31m    **Como a gente responde isso?**\u001b[0m\n\u001b[0m     ^\u001b[0m\n\u001b[0;31mSyntaxError\u001b[0m\u001b[0;31m:\u001b[0m invalid syntax\n"
     ]
    }
   ],
   "source": [
    "## Não, pera! \n",
    "\n",
    "**Como a gente responde isso?**\n",
    "\n",
    "Agrupando os dados\n",
    "\n",
    "**O que é o agrupamento de dados?**\n",
    "\n",
    "O agrupamento de dados é basicamente realizar uma operação sobre um dos atributos dos dados considerando que eles tem um outro atributo em comum, o que indica semelhança entre eles. Essa operação pode ser uma média, soma de valores, selecionar o valor máximo, contar a quantidade de linhas, entre outros.\n",
    "\n",
    "**Por exemplo**, uma vez que tenhamos uma tabela com as colunas 'Região', 'Estado', 'Cidade' e 'Quantidade', \n",
    "podemos agrupar os dados de forma a descobrir qual o valor total da quantidade considerando a Região. \n",
    "\n",
    "Como fazemos isso na prática? Somando todos os valores da coluna 'Quantidade' que tenham os valores iguais para a coluna 'Região'.\n",
    "\n",
    "Com o infográfico abaixo vai ficar mais fácil de ver:\n",
    "<img src=\"../imagens/agrupamento_regiao.png\">"
   ]
  },
  {
   "cell_type": "code",
   "execution_count": 6,
   "metadata": {},
   "outputs": [
    {
     "ename": "SyntaxError",
     "evalue": "invalid syntax (<ipython-input-6-de8fa943c948>, line 1)",
     "output_type": "error",
     "traceback": [
      "\u001b[0;36m  File \u001b[0;32m\"<ipython-input-6-de8fa943c948>\"\u001b[0;36m, line \u001b[0;32m1\u001b[0m\n\u001b[0;31m    O mesmo pode ser feito para o 'Estado' ficando dessa forma:\u001b[0m\n\u001b[0m          ^\u001b[0m\n\u001b[0;31mSyntaxError\u001b[0m\u001b[0;31m:\u001b[0m invalid syntax\n"
     ]
    }
   ],
   "source": [
    "O mesmo pode ser feito para o 'Estado' ficando dessa forma:\n",
    "<img src=\"../imagens/agrupamento_estado.png\">"
   ]
  },
  {
   "cell_type": "code",
   "execution_count": 4,
   "metadata": {},
   "outputs": [
    {
     "ename": "SyntaxError",
     "evalue": "invalid syntax (<ipython-input-4-0e1d07623c8d>, line 3)",
     "output_type": "error",
     "traceback": [
      "\u001b[0;36m  File \u001b[0;32m\"<ipython-input-4-0e1d07623c8d>\"\u001b[0;36m, line \u001b[0;32m3\u001b[0m\n\u001b[0;31m    Agora temos uma noção das perguntas que podemos fazer e responder com esses dados.\u001b[0m\n\u001b[0m              ^\u001b[0m\n\u001b[0;31mSyntaxError\u001b[0m\u001b[0;31m:\u001b[0m invalid syntax\n"
     ]
    }
   ],
   "source": [
    "## Ah Pronto!\n",
    "\n",
    "Agora temos uma noção das perguntas que podemos fazer e responder com esses dados.\n",
    "Por exemplo, eu fiquei muito curiosa sobre:\n",
    "- Como se distribui a quantidade de escolas da rede pública e privada nos estados de Alagoas, Bahia, Pernambuco e Sergipe?\n",
    "- E olhando a dependencia administrativa e localidade?\n",
    "- Quantas tem laboratório de Ciência e Informática?\n",
    "- Quantas tem sanitário dentro do prédio?"
   ]
  }
 ],
 "metadata": {
  "kernelspec": {
   "display_name": "Python 3",
   "language": "python",
   "name": "python3"
  },
  "language_info": {
   "codemirror_mode": {
    "name": "ipython",
    "version": 3
   },
   "file_extension": ".py",
   "mimetype": "text/x-python",
   "name": "python",
   "nbconvert_exporter": "python",
   "pygments_lexer": "ipython3",
   "version": "3.6.3"
  }
 },
 "nbformat": 4,
 "nbformat_minor": 2
}
