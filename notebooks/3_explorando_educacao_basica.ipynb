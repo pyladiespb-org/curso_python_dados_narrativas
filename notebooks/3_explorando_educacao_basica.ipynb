{
 "cells": [
  {
   "cell_type": "markdown",
   "metadata": {},
   "source": [
    "# Notebook 3 - Estudo de Caso\n",
    "*Python, Dados e Narrativas*\n",
    "\n",
    "<img src=\"../imagens/slide13.png\">\n",
    "\n",
    "### Explorando dados da Educação Básica\n",
    "\n",
    "[Olhando o conjunto de dados do INEP](http://dados.gov.br/organization/instituto-nacional-de-estudos-e-pesquisas-educacionais-anisio-teixeira-inep) - Instituto Nacional de Estudos e Pesquisas Educacionais Anísio Teixeira)\n",
    "selecionamos o [conjunto Instituições de Ensino Básico](http://dados.gov.br/dataset/instituicoes-de-ensino-basico) a fim de explorar esse contexto e também por ser um exemplo onde você tem um link direto para um cvs.\n",
    "\n",
    "Vamos ao contexto!\n",
    "\n",
    "Conforme a documentação no site esses são dados do cadastro das escolas da educação básica fornecido pelo INEP, oriundo do Censo Escolar de 2012. Lá existem arquivos separados para cada Região, vamos dar uma olhada em um deles e fica como exercício fazer o mesmo processo com os demais arquivos. Beleza!? \n",
    "\n",
    "Eu escolhi os dados [Cadastro das Matrículas da Região Nordeste(1)](http://dados.gov.br/dataset/instituicoes-de-ensino-basico/resource/4c6e4fd5-4584-480c-9e30-317a80d30060). Eles são referentes aos estados de Pernambuco, Alagoas, Sergipe e Bahia.\n",
    "\n",
    "Olha que interessante:\n",
    "Podemos comparar o resultado da nossa análise com \n",
    "- [Educação Inteligente](http://educacao.dadosabertosbr.com/)\n",
    "\n",
    "*** Simbora!? :D***"
   ]
  },
  {
   "cell_type": "code",
   "execution_count": null,
   "metadata": {
    "collapsed": true
   },
   "outputs": [],
   "source": [
    "%matplotlib inline\n",
    "\n",
    "import pandas as pd\n",
    "import matplotlib.pyplot as plt\n",
    "plt.rcParams['figure.figsize'] = (9, 9)"
   ]
  },
  {
   "cell_type": "markdown",
   "metadata": {},
   "source": [
    "**Pronto! Que comecem os jogos!**"
   ]
  },
  {
   "cell_type": "markdown",
   "metadata": {},
   "source": [
    "Vamos iniciar com 3 passos básicos que você vai fazer sempre\n",
    "\n",
    "**1 - Vamos importar os dados que estão lá no link para dentro do nosso Notebook.**\n",
    "\n",
    "URL é um outro nome para os links que conhecemos, então na página do conjunto de dados que queremos existe uma informação exatamente assim:\n",
    "<img src=\"../imagens/print_url.png\">\n",
    "\n",
    "Vamos copiar o que tem no campo 'URL' e colar abaixo como o valor da nossa variável 'url'"
   ]
  },
  {
   "cell_type": "code",
   "execution_count": null,
   "metadata": {},
   "outputs": [],
   "source": [
    "url = 'http://repositorio.dados.gov.br/educacao/CADASTRO_MATRICULAS_REGIAO_NORDESTE_PE_AL_SE_BA_2012.csv'\n",
    "url"
   ]
  },
  {
   "cell_type": "code",
   "execution_count": null,
   "metadata": {},
   "outputs": [],
   "source": [
    "educacao_basica = pd.read_csv(filepath_or_buffer=url, delimiter=';', header=11, encoding = \"ISO-8859-1\")"
   ]
  },
  {
   "cell_type": "markdown",
   "metadata": {},
   "source": [
    "Explicando: Aqui criamos uma outra variável para armazenar os dados do cvs que queremos analisar.\n",
    "E usamos a o método  'pd.read_csv' para ler os dados do cvs. Para que o método possa funcionar \n",
    "e ir buscar os dados para a gente, precisamos dar algumas informações para ele, como:\n",
    "- filepath_or_buffer = Local onde o arquivo está\n",
    "- delimiter = Símbolo que delimita as colunas do arquvio. Pode ser vírgula, ponto e vírgula, espaço. Os mais comuns são vírgula e ponto e vírgula.\n",
    "- header = Quantas linhas ele deve pular até começar a ler o arquivo. \n",
    "- encoding = O formato nos quais os dados foram codificados, isso diz respeito a forma como os acentos e acaracteres especiais foram convertidos na hora de salvar o arquivo. Os mais comuns são 'utf-8' e 'ISO-8859-1'\n",
    "\n",
    "Só dá pra descobrir essas informações quando olhamos o arquivo que queremos importar antes. Por exemplo, se você baixar o arquivo que está nessa url você vai ver a sequinte estrutura:\n",
    "\n",
    "<img src=\"../imagens/print_dados_educacao_basica.png\">"
   ]
  },
  {
   "cell_type": "markdown",
   "metadata": {},
   "source": [
    "O que indica que teremos que as 11 primeiras linhas não são exatamente os dados que queremos \n",
    "analisar e sim um descritivo deles, o que para nós não é interessante agora."
   ]
  },
  {
   "cell_type": "markdown",
   "metadata": {},
   "source": [
    "**2 - Vamos dar uma olhada nos dados que importamos**"
   ]
  },
  {
   "cell_type": "code",
   "execution_count": null,
   "metadata": {
    "scrolled": true
   },
   "outputs": [],
   "source": [
    "educacao_basica.head(5)"
   ]
  },
  {
   "cell_type": "markdown",
   "metadata": {},
   "source": [
    "**3 - Vamos dar uma olhada em quais campos ele possui?**"
   ]
  },
  {
   "cell_type": "code",
   "execution_count": null,
   "metadata": {},
   "outputs": [],
   "source": [
    "educacao_basica.columns.values"
   ]
  },
  {
   "cell_type": "markdown",
   "metadata": {},
   "source": [
    "## Ah Pronto!\n",
    "\n",
    "Quais perguntas vamos responder com esses dados?\n",
    "\n",
    "- Como se distribui a quantidade de escolas da rede pública e privada nos estados de Alagoas, Bahia, Pernambuco e Sergipe?\n",
    "- E olhando a dependencia administrativa e localidade?\n",
    "- Quantas tem laboratório de Ciência e Informática?\n",
    "- Quantas tem sanitário dentro do prédio?"
   ]
  },
  {
   "cell_type": "markdown",
   "metadata": {},
   "source": [
    "## Ah Pronto! Agora vai! \n",
    "\n",
    "Agora que entendemos isso, simbora analisar esses dados!"
   ]
  },
  {
   "cell_type": "markdown",
   "metadata": {},
   "source": [
    "### 1 -  Como se distribui a quantidade de escolas da rede pública e privada nos estados de Alagoas, Bahia, Pernambuco e Sergipe?"
   ]
  },
  {
   "cell_type": "code",
   "execution_count": null,
   "metadata": {},
   "outputs": [],
   "source": [
    "educacao_basica.groupby(['REDE', 'UF']).size().reset_index(name='Quantidade').sort_values('Quantidade')"
   ]
  },
  {
   "cell_type": "markdown",
   "metadata": {},
   "source": [
    "### 2 - E olhando a dependencia administrativa e localidade?"
   ]
  },
  {
   "cell_type": "code",
   "execution_count": null,
   "metadata": {},
   "outputs": [],
   "source": [
    "educacao_basica.groupby(['REDE', \n",
    "                    'UF', \n",
    "                    'Dependencia_Administrativa', \n",
    "                    'Localizacao']).size().reset_index(name='Quantidade').sort_values('Quantidade')"
   ]
  },
  {
   "cell_type": "markdown",
   "metadata": {},
   "source": [
    "#### 3 -  Quantas tem laboratório de Informática?"
   ]
  },
  {
   "cell_type": "code",
   "execution_count": null,
   "metadata": {
    "scrolled": true
   },
   "outputs": [],
   "source": [
    "educacao_basica.groupby([\n",
    "                    'UF', \n",
    "                    'LABORATORIO_INFORMATICA']).size().reset_index(name='Quantidade').sort_values('Quantidade')"
   ]
  },
  {
   "cell_type": "markdown",
   "metadata": {},
   "source": [
    "#### 4 -  Quantas tem laboratório de Ciência?"
   ]
  },
  {
   "cell_type": "code",
   "execution_count": null,
   "metadata": {},
   "outputs": [],
   "source": [
    "educacao_basica.groupby([ \n",
    "                    'UF',\n",
    "                    'LABORATORIO_CIENCIAS']).size().reset_index(name='Quantidade').sort_values('Quantidade')"
   ]
  },
  {
   "cell_type": "markdown",
   "metadata": {},
   "source": [
    "#### 5 - Quantas tem sanitário dentro do prédio?"
   ]
  },
  {
   "cell_type": "code",
   "execution_count": null,
   "metadata": {
    "scrolled": true
   },
   "outputs": [],
   "source": [
    "educacao_basica.groupby(['UF', \n",
    "                    'SANITARIO_DENTRO_PREDIO']).size().reset_index(name='Quantidade').sort_values('UF')"
   ]
  },
  {
   "cell_type": "markdown",
   "metadata": {},
   "source": [
    "## Procure saber:"
   ]
  },
  {
   "cell_type": "markdown",
   "metadata": {},
   "source": [
    "#### 1- Quantas tem MATERIAL_ESP_QUILOMBOLA ou MATERIAL_ESP_INDIGENA?\n",
    "\n",
    "Dica: Para responder isso você pode explorar os seguintes atributos:\n",
    "- MATERIAL_ESP_INDIGENA\n",
    "- MATERIAL_ESP_QUILOMBOLA"
   ]
  },
  {
   "cell_type": "code",
   "execution_count": null,
   "metadata": {
    "collapsed": true
   },
   "outputs": [],
   "source": [
    "educacao_basica.groupby(['UF', 'Coloque o campo aqui!']).size().reset_index(name='Quantidade').sort_values('UF')"
   ]
  },
  {
   "cell_type": "markdown",
   "metadata": {},
   "source": [
    "#### 2 - Existem escolas que não tenham água disponpivel para suas atividades?\n",
    "\n",
    "Dica: Para responder isso você pode explorar os seguintes atributos:\n",
    "- 'AGUA_FILTRADA'\n",
    "- 'AGUA_REDE_PUBLICA'\n",
    "- 'AGUA_POCO_ARTESIANO'\n",
    "- 'AGUA_CACIMBA'\n",
    "- 'AGUA_FONTE_RIO'\n",
    "- 'AGUA_INEXISTENTE',"
   ]
  },
  {
   "cell_type": "code",
   "execution_count": null,
   "metadata": {
    "scrolled": false
   },
   "outputs": [],
   "source": [
    "educacao_basica.groupby(['UF', 'Coloque o campo aqui!']).size().reset_index(name='Quantidade').sort_values('UF')"
   ]
  },
  {
   "cell_type": "code",
   "execution_count": null,
   "metadata": {
    "collapsed": true
   },
   "outputs": [],
   "source": [
    "dados.to_csv(\"../dados/analise.csv\", index=False)"
   ]
  },
  {
   "cell_type": "markdown",
   "metadata": {},
   "source": [
    "## Visualizando os Dados\n",
    "\n",
    "- [Infogram](https://infogram.com/)\n",
    "- [Flourish](https://flourish.studio/)\n",
    "- [Tabelas dinâmicas - Excel](https://rockcontent.com/blog/tabela-dinamica/)\n",
    "\n",
    "\n",
    "- [Matplolib](https://matplotlib.org/)\n",
    "- [Visualização com Matplotlib e Pandas](https://pandas.pydata.org/pandas-docs/stable/user_guide/visualization.html)\n",
    "- [Vega Lite](https://vega.github.io/vega-lite/examples/)"
   ]
  },
  {
   "cell_type": "markdown",
   "metadata": {},
   "source": [
    "<img src=\"../imagens/slide14.png\">\n",
    "\n",
    "### Template da apresentação utilizada nesse curso por [SlidesCarnival](https://www.slidescarnival.com/) ❤"
   ]
  }
 ],
 "metadata": {
  "kernelspec": {
   "display_name": "Python 3",
   "language": "python",
   "name": "python3"
  },
  "language_info": {
   "codemirror_mode": {
    "name": "ipython",
    "version": 3
   },
   "file_extension": ".py",
   "mimetype": "text/x-python",
   "name": "python",
   "nbconvert_exporter": "python",
   "pygments_lexer": "ipython3",
   "version": "3.6.3"
  }
 },
 "nbformat": 4,
 "nbformat_minor": 2
}
