{
 "cells": [
  {
   "cell_type": "markdown",
   "metadata": {},
   "source": [
    "# Python, Dados e Narrativas - Introdução\n",
    "\n",
    "<img src=\"../imagens/slide1.png\">\n",
    "<img src=\"../imagens/slide2.png\">\n",
    "<img src=\"../imagens/slide3.png\">\n",
    "<img src=\"../imagens/slide4.png\">\n",
    "<img src=\"../imagens/slide5.png\">\n",
    "\n",
    "## Organização:\n",
    "### Notebook 1\n",
    "\n",
    "Compreende um breve contexto sobre o assunto, tipos e fontes de Dados.\n",
    "\n",
    "- [Link Github]()\n",
    "- [Link Colab]()\n",
    "\n",
    "### Notebook 2\n",
    "\n",
    "Compreende algumas operações básicas com os dados, como: *import*, somatório, média, mediana, agrupamento e ordenação.\n",
    "\n",
    "- [Link Github]()\n",
    "- [Link Colab]()\n",
    "\n",
    "### Notebook 3\n",
    "\n",
    "Compreende um estudo de caso com dados relembrando o que vimos até agora. Vamos!\n",
    "\n",
    "- [Link Github]()\n",
    "- [Link Colab]()\n"
   ]
  }
 ],
 "metadata": {
  "kernelspec": {
   "display_name": "Python 3",
   "language": "python",
   "name": "python3"
  },
  "language_info": {
   "codemirror_mode": {
    "name": "ipython",
    "version": 3
   },
   "file_extension": ".py",
   "mimetype": "text/x-python",
   "name": "python",
   "nbconvert_exporter": "python",
   "pygments_lexer": "ipython3",
   "version": "3.6.3"
  }
 },
 "nbformat": 4,
 "nbformat_minor": 2
}
