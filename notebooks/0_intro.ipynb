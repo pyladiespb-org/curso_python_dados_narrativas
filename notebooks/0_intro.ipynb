{
 "cells": [
  {
   "cell_type": "markdown",
   "metadata": {},
   "source": [
    "# Python, Dados e Narrativas - Introdução\n",
    "Por Lorena Pereira, em Julho de 2019 :)\n",
    "\n",
    "<img src=\"../imagens/slide1.png\">\n",
    "<img src=\"../imagens/slide2.png\">\n",
    "<img src=\"../imagens/slide3.png\">\n",
    "<img src=\"../imagens/slide4.png\">\n",
    "<img src=\"../imagens/slide5.png\">\n",
    "\n",
    "## Organização:\n",
    "\n",
    "### Notebook 1 - Contexto, fonte e formato dos dados.\n",
    "\n",
    "Compreende um breve contexto sobre o assunto, fontes e formatos de Dados.\n",
    "\n",
    "- [Link Github]()\n",
    "- [Link Colab]()\n",
    "\n",
    "### Notebook 2 - Operações Básicas\n",
    "\n",
    "Compreende algumas operações básicas com os dados, como: *import*, somatório, média, mediana, agrupamento e ordenação.\n",
    "\n",
    "- [Link Github]()\n",
    "- [Link Colab]()\n",
    "\n",
    "### Notebook 3 - Estudo de Caso\n",
    "\n",
    "Compreende um estudo de caso com dados relembrando o que vimos até agora. Vamos!?\n",
    "\n",
    "- [Link Github]()\n",
    "- [Link Colab]()\n",
    "\n",
    "[Link da Apresentação](https://docs.google.com/presentation/d/13TAH-2B1_nZzBcs1jgNugolcriiqS2FwZleYvOjmoBc/edit?usp=sharing) de onde foram retirada as imagens aqui adicionadas.\n",
    "\n",
    "O conteúdo desse curso foi feito em colaboração com o [Projeto Eko](https://www.instagram.com/ekoprojeto/), que também dispõe de um material sobre dados, narrativas e contranarrativas visando o combate a discriminação da Internet.\n",
    "\n",
    "\n",
    "Fique a vontade para reutilizar o material e reproduzir o curso por aí ❤ Simbora deixar Tecnologia mais acessível!"
   ]
  }
 ],
 "metadata": {
  "kernelspec": {
   "display_name": "Python 3",
   "language": "python",
   "name": "python3"
  },
  "language_info": {
   "codemirror_mode": {
    "name": "ipython",
    "version": 3
   },
   "file_extension": ".py",
   "mimetype": "text/x-python",
   "name": "python",
   "nbconvert_exporter": "python",
   "pygments_lexer": "ipython3",
   "version": "3.6.3"
  }
 },
 "nbformat": 4,
 "nbformat_minor": 2
}
